{
  "nbformat": 4,
  "nbformat_minor": 0,
  "metadata": {
    "colab": {
      "provenance": [],
      "authorship_tag": "ABX9TyMPhrjyhPCNOOCiv7BgqpoZ",
      "include_colab_link": true
    },
    "kernelspec": {
      "name": "python3",
      "display_name": "Python 3"
    },
    "language_info": {
      "name": "python"
    }
  },
  "cells": [
    {
      "cell_type": "markdown",
      "metadata": {
        "id": "view-in-github",
        "colab_type": "text"
      },
      "source": [
        "<a href=\"https://colab.research.google.com/github/Meet4102/Tops/blob/main/Python_Assignment.ipynb\" target=\"_parent\"><img src=\"https://colab.research.google.com/assets/colab-badge.svg\" alt=\"Open In Colab\"/></a>"
      ]
    },
    {
      "cell_type": "code",
      "execution_count": null,
      "metadata": {
        "id": "SVBLnphHH0W7"
      },
      "outputs": [],
      "source": []
    },
    {
      "cell_type": "markdown",
      "source": [
        "Q1 What are the types of Applications? ->1.Web Development. 2.Game Development. 3.Machine Learning and Artificial Intelligence. 4.Data Science and Data Visualization. 5.Desktop GUI. 6.Web Scraping Applications. 7.Business Applications. 8.Audio and Video Applications."
      ],
      "metadata": {
        "id": "yntgpkHDH3n5"
      }
    },
    {
      "cell_type": "markdown",
      "source": [
        "Q2 What is programing? -> Python is a high-level, general-purpose programming language. Its design philosophy emphasizes code readability with the use of significant indentation"
      ],
      "metadata": {
        "id": "hIoRqkaqIVNk"
      }
    },
    {
      "cell_type": "markdown",
      "source": [
        " Q3 What is Python?-> Python is an open-source programming language, having features like object-oriented, interpreted and high-level too. It is a dynamically typed programming language, which is easy to use with redable and user-friendly syntax. It has huge libraries."
      ],
      "metadata": {
        "id": "Pz-ASdfuIsPC"
      }
    },
    {
      "cell_type": "code",
      "source": [
        "# 4) Write a Python program to check if a number is positive, negative or zero.\n",
        "num = float(input(\"Enter a number: \"))\n",
        "if num>0:\n",
        "  print(\"Positive\")\n",
        "elif num==0:\n",
        "  print(\"Zero\")\n",
        "else:\n",
        "  print(\"Negative\")"
      ],
      "metadata": {
        "colab": {
          "base_uri": "https://localhost:8080/"
        },
        "id": "t1ypd-GzL09r",
        "outputId": "bd724d69-ba45-492b-82ee-186447ad88dc"
      },
      "execution_count": null,
      "outputs": [
        {
          "output_type": "stream",
          "name": "stdout",
          "text": [
            "Enter a number: 10\n",
            "Positive\n"
          ]
        }
      ]
    },
    {
      "cell_type": "code",
      "source": [
        "# 5)Write a Python program to get the Factorial number of given numbers.\n",
        "num = int(input(\"Enter a number: \"))\n",
        "fact=1\n",
        "for i in range(1,num+1):\n",
        "  fact*=i\n",
        "print(fact)"
      ],
      "metadata": {
        "colab": {
          "base_uri": "https://localhost:8080/"
        },
        "id": "bJrmlZKGMh4u",
        "outputId": "82455020-bbac-4ffb-e106-f23ea10c7393"
      },
      "execution_count": null,
      "outputs": [
        {
          "output_type": "stream",
          "name": "stdout",
          "text": [
            "Enter a number: 3\n",
            "6\n"
          ]
        }
      ]
    },
    {
      "cell_type": "code",
      "source": [
        "# 6)Write a Python program to get the Fibonacci series of given range.\n",
        "num = int(input(\"Enter a number: \"))\n",
        "num1=0\n",
        "num2=1\n",
        "print(num1)\n",
        "print(num2)\n",
        "for i in range(2,num):\n",
        "  num3=num1+num2\n",
        "  print(num3)\n",
        "  num1=num2\n",
        "  num2=num3"
      ],
      "metadata": {
        "colab": {
          "base_uri": "https://localhost:8080/"
        },
        "id": "xYKS63eGOLSB",
        "outputId": "51e48bc1-57e0-45ca-9593-258c595340b5"
      },
      "execution_count": null,
      "outputs": [
        {
          "output_type": "stream",
          "name": "stdout",
          "text": [
            "Enter a number: 5\n",
            "0\n",
            "1\n",
            "1\n",
            "2\n",
            "3\n"
          ]
        }
      ]
    },
    {
      "cell_type": "markdown",
      "source": [
        "Q7 How memory is managed in Python? -> You can classify memory management in Python in one of two ways: dynamic allocation or static allocation. Dynamic allocation occurs as the program is running. This means that as the program operates, it can dynamically determine where to allocate memory while reusing and releasing it."
      ],
      "metadata": {
        "id": "J3ErpsL-QyWy"
      }
    },
    {
      "cell_type": "markdown",
      "source": [
        "Q8 What is the purpose continuing statement in python? -> The continue statement in Python is used to skip the remaining code inside a loop for the current iteration only."
      ],
      "metadata": {
        "id": "M3FMr_UlRDJT"
      }
    },
    {
      "cell_type": "code",
      "source": [
        "# 9) Write python program that swap two number with temp variable and without temp variable.\n",
        "num1=int(input(\"Enter first number: \"))\n",
        "num2=int(input(\"Enter second number: \"))\n",
        "temp=num1\n",
        "num1=num2\n",
        "num2=temp\n",
        "print(\"First number:\",num1,\"Second number:\",num2)"
      ],
      "metadata": {
        "colab": {
          "base_uri": "https://localhost:8080/"
        },
        "id": "T1w6eXjuPPlS",
        "outputId": "b03dcf13-31f1-47eb-a036-1a7b18e559f1"
      },
      "execution_count": null,
      "outputs": [
        {
          "output_type": "stream",
          "name": "stdout",
          "text": [
            "Enter first number: 10\n",
            "Enter second number: 20\n",
            "First number: 20 Second number: 10\n"
          ]
        }
      ]
    },
    {
      "cell_type": "code",
      "source": [
        "# 10) Write a Python program to find whether a given number is even or odd, print out an appropriate message to the user.\n",
        "num=int(input(\"Enter a number:\"))\n",
        "if num%2==0:\n",
        "  print(\"Even number\")\n",
        "else:\n",
        "  print(\"Odd number\")"
      ],
      "metadata": {
        "colab": {
          "base_uri": "https://localhost:8080/"
        },
        "id": "YBxpFh89RzwU",
        "outputId": "9bdd6af2-a301-4294-a191-9ed709e4451e"
      },
      "execution_count": null,
      "outputs": [
        {
          "output_type": "stream",
          "name": "stdout",
          "text": [
            "Enter a number:0\n",
            "Even number\n"
          ]
        }
      ]
    },
    {
      "cell_type": "code",
      "source": [
        "# 11) Write a Python program to test whether a passed letter is a vowel or not.\n",
        "letter=input(\"Enter a latter: \")\n",
        "if letter in ('a','e','i','o','u','A','E','I','O','U'):\n",
        "  print(\"It's a vowel\")\n",
        "else:\n",
        "  print(\"It's not a vowel\")"
      ],
      "metadata": {
        "colab": {
          "base_uri": "https://localhost:8080/"
        },
        "id": "VFhHfaIeSnh2",
        "outputId": "39daa0cc-addc-49ca-e240-15eeec806209"
      },
      "execution_count": null,
      "outputs": [
        {
          "output_type": "stream",
          "name": "stdout",
          "text": [
            "Enter a latter: A\n",
            "It's a vowel\n"
          ]
        }
      ]
    },
    {
      "cell_type": "code",
      "source": [
        "# 12) Write a Python program to sum of three given integers. However, if two values are equal sum will be zero.\n",
        "Num1=int(input(\"Enter first number: \"))\n",
        "Num2=int(input(\"Enter second number: \"))\n",
        "Num3=int(input(\"Enter third number: \"))\n",
        "if Num1==Num2 or Num1==Num3 or Num2==Num3:\n",
        "  print(\"Sum is zero\")\n",
        "else:\n",
        "  print(\"Sum is\",Num1+Num2+Num3)"
      ],
      "metadata": {
        "colab": {
          "base_uri": "https://localhost:8080/"
        },
        "id": "8GXxjsyDTT1z",
        "outputId": "f212ef02-8971-408a-a3ad-47fb643c3414"
      },
      "execution_count": null,
      "outputs": [
        {
          "output_type": "stream",
          "name": "stdout",
          "text": [
            "Enter first number: 10\n",
            "Enter second number: 20\n",
            "Enter third number: 30\n",
            "Sum is 60\n"
          ]
        }
      ]
    },
    {
      "cell_type": "code",
      "source": [
        "# 13) Write a Python program that will return true if the two given integer values are equal or their sum or difference is 5.\n",
        "num1=int(input(\"Etner a fisrt number: \"))\n",
        "num2=int(input(\"Enter a second number: \"))\n",
        "if num1==num2 or num1+num2==5 or num1-num2==5:\n",
        "  print(\"True\")\n",
        "else:\n",
        "  print(\"False\")"
      ],
      "metadata": {
        "colab": {
          "base_uri": "https://localhost:8080/"
        },
        "id": "wenmgAoWUvWi",
        "outputId": "ec125787-7716-43fa-8b5d-04d6723e56b1"
      },
      "execution_count": null,
      "outputs": [
        {
          "output_type": "stream",
          "name": "stdout",
          "text": [
            "Etner a fisrt number: 3\n",
            "Enter a second number: 2\n",
            "True\n"
          ]
        }
      ]
    },
    {
      "cell_type": "code",
      "source": [
        "# 14)Write a python program to sum of the first n positive integers.\n",
        "num=int(input(\"Enter a number: \"))\n",
        "sum=0\n",
        "for i in range(1,num+1):\n",
        "  sum+=i\n",
        "print(sum)"
      ],
      "metadata": {
        "colab": {
          "base_uri": "https://localhost:8080/"
        },
        "id": "M8KW4zjr8wte",
        "outputId": "e32de9ec-d7fc-43c6-f347-5f2a01efc4a5"
      },
      "execution_count": null,
      "outputs": [
        {
          "output_type": "stream",
          "name": "stdout",
          "text": [
            "Enter a number: 3\n",
            "6\n"
          ]
        }
      ]
    },
    {
      "cell_type": "code",
      "source": [
        "# 15)Write a Python program to calculate the length of a string.\n",
        "string=input(\"Enter a string: \")\n",
        "print(len(string))"
      ],
      "metadata": {
        "colab": {
          "base_uri": "https://localhost:8080/"
        },
        "id": "MAZ9LeVj9h-J",
        "outputId": "7efd23de-0ae9-4c89-af09-9a73de720185"
      },
      "execution_count": null,
      "outputs": [
        {
          "output_type": "stream",
          "name": "stdout",
          "text": [
            "Enter a string: meet\n",
            "4\n"
          ]
        }
      ]
    },
    {
      "cell_type": "code",
      "source": [
        "# 16) Write a Python program to count the number of characters (character frequency) in a string.\n",
        "string=input(\"Enter a string: \")\n",
        "freq={}\n",
        "for i in string:\n",
        "  if i in freq:\n",
        "    freq[i]+=1\n",
        "  else:\n",
        "    freq[i]=1\n",
        "print(freq)"
      ],
      "metadata": {
        "colab": {
          "base_uri": "https://localhost:8080/"
        },
        "id": "-p4WaWVt-HvD",
        "outputId": "7f51d3fd-3cb1-4f50-ecb0-cb483e968571"
      },
      "execution_count": null,
      "outputs": [
        {
          "output_type": "stream",
          "name": "stdout",
          "text": [
            "Enter a string: Meet gajjar\n",
            "{'M': 1, 'e': 2, 't': 1, ' ': 1, 'g': 1, 'a': 2, 'j': 2, 'r': 1}\n"
          ]
        }
      ]
    },
    {
      "cell_type": "markdown",
      "source": [
        "17)What are negative indexes and why are they used? -> Negative indexing allows you to access elements of a sequence from the end, using negative numbers as indexes. This can be useful for getting the last few elements of a sequence, reversing a sequence."
      ],
      "metadata": {
        "id": "N0V6RbJh_J08"
      }
    },
    {
      "cell_type": "code",
      "source": [
        "# 18)Write a Python program to count occurrences of a substring in a string.\n",
        "def count_substring(main_string, sub_string):\n",
        "    count = main_string.count(sub_string)\n",
        "    return count\n",
        "\n",
        "# Example usage\n",
        "main_string = input(\"Enter a main string: \")\n",
        "sub_string = input(\"Enter a sub string: \")\n",
        "\n",
        "result = count_substring(main_string, sub_string)\n",
        "print(f\"The substring '{sub_string}' appears {result} times in the main string.\")\n"
      ],
      "metadata": {
        "colab": {
          "base_uri": "https://localhost:8080/"
        },
        "id": "RQy5W8Ju_UdT",
        "outputId": "c4bd198e-73df-4323-93a2-7abe9619bcf3"
      },
      "execution_count": null,
      "outputs": [
        {
          "output_type": "stream",
          "name": "stdout",
          "text": [
            "Enter a main string: mmm mmm mmm\n",
            "Enter a sub string: mmm\n",
            "The substring 'mmm' appears 3 times in the main string.\n"
          ]
        }
      ]
    },
    {
      "cell_type": "code",
      "source": [
        "# 19) Write a Python program to count the occurrences of each word in a given sentece\n",
        "sentence = input(\"Enter a sentence: \")\n",
        "words = sentence.split()\n",
        "freq = {}\n",
        "\n",
        "for i in words:\n",
        "    i =i.lower()  # Convert the word to lowercase\n",
        "    if i in freq:\n",
        "        freq[i] += 1\n",
        "    else:\n",
        "        freq[i] = 1\n",
        "\n",
        "print(freq)\n"
      ],
      "metadata": {
        "colab": {
          "base_uri": "https://localhost:8080/"
        },
        "id": "e0tRchEIAvT3",
        "outputId": "af4ded5f-c035-44cd-c998-435173da7395"
      },
      "execution_count": null,
      "outputs": [
        {
          "output_type": "stream",
          "name": "stdout",
          "text": [
            "Enter a sentence: mm mm nn nn\n",
            "{'mm': 2, 'nn': 2}\n"
          ]
        }
      ]
    },
    {
      "cell_type": "code",
      "source": [
        "# 20) Write a Python program to get a single string from two given strings, separated by a space and swap the first two characters of each string.\n",
        "def swap(string1,string2):\n",
        "  combine_string=string1[:2]+string2[2:]+\" \"+string2[:2]+string1[2:]\n",
        "  return combine_string\n",
        "\n",
        "string1=input(\"Enter first string: \")\n",
        "string2=input(\"Enter second string: \")\n",
        "print(swap(string1,string2))"
      ],
      "metadata": {
        "colab": {
          "base_uri": "https://localhost:8080/"
        },
        "id": "HqVS-6mVEkJ6",
        "outputId": "5cca1f3c-106e-4d73-f30c-d5ef1b0090d0"
      },
      "execution_count": null,
      "outputs": [
        {
          "output_type": "stream",
          "name": "stdout",
          "text": [
            "Enter first string: meet\n",
            "Enter second string: malav\n",
            "melav maet\n"
          ]
        }
      ]
    },
    {
      "cell_type": "code",
      "source": [
        "# 21) Write a Python program to add 'in' at the end of a given string (length should be at least 3). If the given string already ends with 'ing' then\n",
        "# add 'ly' instead if the string length of the given string is less than 3, leave it unchanged.\n",
        "def add_in(string):\n",
        "  if len(string)<3:\n",
        "    return string\n",
        "  elif string[-3:]==\"ing\":\n",
        "    return string+\"ly\"\n",
        "  else:\n",
        "    return string+\"in\"\n",
        "\n",
        "string=input(\"Enter a string: \")\n",
        "print(add_in(string))"
      ],
      "metadata": {
        "colab": {
          "base_uri": "https://localhost:8080/"
        },
        "id": "kR4t9m9YIrD9",
        "outputId": "62752825-70db-49fd-85b2-0aaaa88c3309"
      },
      "execution_count": null,
      "outputs": [
        {
          "output_type": "stream",
          "name": "stdout",
          "text": [
            "Enter a string: me\n",
            "me\n"
          ]
        }
      ]
    },
    {
      "cell_type": "code",
      "source": [
        "# 22) Write a Python function to reverses a string if its length is a multiple of 4.\n",
        "def reverse(string):\n",
        "  if len(string)%4==0:\n",
        "    return string[::-1]\n",
        "  else:\n",
        "    return string\n",
        "string=input(\"Enter a string: \")\n",
        "print(reverse(string))"
      ],
      "metadata": {
        "colab": {
          "base_uri": "https://localhost:8080/"
        },
        "id": "dcUicswmoFxR",
        "outputId": "312e3488-393d-40ee-dbcd-cda537b8b3f4"
      },
      "execution_count": null,
      "outputs": [
        {
          "output_type": "stream",
          "name": "stdout",
          "text": [
            "Enter a string: mala\n",
            "alam\n"
          ]
        }
      ]
    },
    {
      "cell_type": "code",
      "source": [
        "# 23) Write a Python program to get a string made of the first 2 and the last 2 chars from a given a string. If the string length is less than 2, return\n",
        "# instead of the empty string.\n",
        "def frist_last(string):\n",
        "  if len(string)<2:\n",
        "    return \"\"\n",
        "  else:\n",
        "    return string[:2]+string[-2:]\n",
        "\n",
        "string=input(\"Enter a string: \")\n",
        "print(frist_last(string))"
      ],
      "metadata": {
        "colab": {
          "base_uri": "https://localhost:8080/"
        },
        "id": "9tt7OYJqpxXv",
        "outputId": "abbd819d-5849-446e-8b53-ff1982676c08"
      },
      "execution_count": null,
      "outputs": [
        {
          "output_type": "stream",
          "name": "stdout",
          "text": [
            "Enter a string: hi\n",
            "hihi\n"
          ]
        }
      ]
    },
    {
      "cell_type": "code",
      "source": [
        "# 24)Write a Python function to insert a string in the middle of a string.\n",
        "string1 = input(\"Enter a string: \")\n",
        "string2 = input(\"Enter a string to insert: \")\n",
        "index = int(input(\"Enter the index to insert the string: \"))\n",
        "new_string=string1[:index]+string2+string1[index:]\n",
        "print(new_string)"
      ],
      "metadata": {
        "colab": {
          "base_uri": "https://localhost:8080/"
        },
        "id": "dDm9J5q5qiOw",
        "outputId": "fc2a1a11-f417-4579-873a-81fdb62481e0"
      },
      "execution_count": null,
      "outputs": [
        {
          "output_type": "stream",
          "name": "stdout",
          "text": [
            "Enter a string: meet\n",
            "Enter a string to insert: e\n",
            "Enter the index to insert the string: 2\n",
            "meeet\n"
          ]
        }
      ]
    },
    {
      "cell_type": "markdown",
      "source": [
        "25)What is List? How will you reverse a list? -> A list in Python is a collection of items which can hold a variety of data types. Lists are ordered, mutable (changeable), and allow duplicate elements. Lists are defined by enclosing elements in square brackets ([]), with each element separated by a comma.\n",
        "\n",
        "1. Using the reverse() Method:\n",
        "The reverse() method reverses the elements of the list in place. This means it modifies the original list and does not return a new list.\n",
        "my_list = [1, 2, 3, 4, 5]\n",
        "my_list.reverse()\n",
        "print(my_list)  # Output: [5, 4, 3, 2, 1]\n",
        "2. Using Slicing:\n",
        "Slicing can be used to create a new list that is the reverse of the original list.\n",
        "my_list = [1, 2, 3, 4, 5]\n",
        "reversed_list = my_list[::-1]\n",
        "print(reversed_list)  # Output: [5, 4, 3, 2, 1]"
      ],
      "metadata": {
        "id": "KX2FbgnM3Ahr"
      }
    },
    {
      "cell_type": "markdown",
      "source": [
        "26)How will you remove last object from a list? ->\n",
        "1: Using the pop() method without an index\n",
        "= my_list = [1, 2, 3, 4, 5]\n",
        "last_element=\n",
        "my_list.pop()\n",
        "print(my_list)\n",
        "print(last_element)\n",
        "\n",
        "2: Using slicing\n",
        "=my_list = [1, 2, 3, 4, 5]\n",
        "my_list = my_list[:-1]\n",
        "print(my_list)\n",
        "\n",
        "3: Using the del statement=\n",
        "my_list = [1, 2, 3, 4, 5]\n",
        "del my_list[-1]\n",
        "print(my_list)"
      ],
      "metadata": {
        "id": "_l42Eoke33ib"
      }
    },
    {
      "cell_type": "code",
      "source": [
        "# 27)Suppose list1 is [2, 33, 222, 14, and 25], what is list1 [-1]?\n",
        "list1=[2,33,222,14,25]\n",
        "print(list1[-1])"
      ],
      "metadata": {
        "colab": {
          "base_uri": "https://localhost:8080/"
        },
        "id": "ynK8vcOJrzu-",
        "outputId": "aabd76ee-26b6-496c-9b3f-c7d85e82cd0c"
      },
      "execution_count": null,
      "outputs": [
        {
          "output_type": "stream",
          "name": "stdout",
          "text": [
            "25\n"
          ]
        }
      ]
    },
    {
      "cell_type": "markdown",
      "source": [
        "28)Differentiate between append () and extend () methods? ->\n",
        "1:append(another_list) adds the entire another_list as a single element to my_list.\n",
        "\n",
        "my_list = [1, 2, 3]\n",
        "\n",
        "another_list = [4, 5, 6]\n",
        "\n",
        "my_list.append(another_list)\n",
        "\n",
        "print(my_list)\n",
        "\n",
        "Output: [1, 2, 3, [4, 5, 6]]\n",
        "\n",
        "2: extend(another_list) adds each element of another_list individually to my_list.\n",
        "\n",
        "my_list = [1, 2, 3]\n",
        "\n",
        "my_list.extend(another_list)\n",
        "\n",
        "print(my_list)\n",
        "\n",
        "Output: [1, 2, 3, 4, 5, 6]"
      ],
      "metadata": {
        "id": "mamW3qmY4zFv"
      }
    },
    {
      "cell_type": "code",
      "source": [
        "# 29) Write a Python function to get the largest number, smallest num and sum of all from a list.\n",
        "def large_small_sum(list):\n",
        "  largest=max(list)\n",
        "  smallest=min(list)\n",
        "  sum=0\n",
        "  for i in list:\n",
        "    sum+=i\n",
        "  print(\"Largest number:\",largest)\n",
        "  print(\"Smallest number:\",smallest)\n",
        "  print(\"Sum of all numbers:\",sum)\n",
        "\n",
        "list=[10,20,30,40]\n",
        "large_small_sum(list)"
      ],
      "metadata": {
        "colab": {
          "base_uri": "https://localhost:8080/"
        },
        "id": "HeWd9r1Q4rhU",
        "outputId": "96e6b74c-d813-4d78-8b8e-f198d5b501af"
      },
      "execution_count": null,
      "outputs": [
        {
          "output_type": "stream",
          "name": "stdout",
          "text": [
            "Largest number: 40\n",
            "Smallest number: 10\n",
            "Sum of all numbers: 100\n"
          ]
        }
      ]
    },
    {
      "cell_type": "code",
      "source": [
        "# 30)How will you compare two lists?\n",
        "list1=input(\"Enter first list: \")\n",
        "list2=input(\"Enter second list: \")\n",
        "if list1==list2:\n",
        "  print(\"Equal\")\n",
        "else:\n",
        "  print(\"Not equal\")"
      ],
      "metadata": {
        "colab": {
          "base_uri": "https://localhost:8080/"
        },
        "id": "pd8bNDfp7UHV",
        "outputId": "21506f4f-421b-44d5-abee-a7edbcd81b50"
      },
      "execution_count": null,
      "outputs": [
        {
          "output_type": "stream",
          "name": "stdout",
          "text": [
            "Enter first list: 1,2,3,4,5\n",
            "Enter second list: 1,2,3,4\n",
            "Not equal\n"
          ]
        }
      ]
    },
    {
      "cell_type": "code",
      "source": [
        "# 31) Write a Python program to count the number of strings where the string length is 2 or more and the first and last character are same from a given list of strings.\n",
        "def count_special_strings(strings):\n",
        "    count = 0\n",
        "    for s in strings:\n",
        "        if len(s) >= 2 and s[0] == s[-1]:\n",
        "            count += 1\n",
        "    return count\n",
        "\n",
        "# Example usage\n",
        "string_list = [\"abc\", \"xyz\", \"aba\", \"1221\", \"a\"]\n",
        "result = count_special_strings(string_list)\n",
        "print(f\"Number of special strings: {result}\")\n"
      ],
      "metadata": {
        "colab": {
          "base_uri": "https://localhost:8080/"
        },
        "id": "m8Wd4S2wH7MP",
        "outputId": "c25a11c8-4d1c-42c0-d37f-7e03d860f69d"
      },
      "execution_count": null,
      "outputs": [
        {
          "output_type": "stream",
          "name": "stdout",
          "text": [
            "Number of special strings: 2\n"
          ]
        }
      ]
    },
    {
      "cell_type": "code",
      "source": [
        "# 32)Write a Python program to remove duplicates from a list.\n",
        "\n",
        "# list=[1,2,3,4,5,1,2,3,4,5]\n",
        "# new_list=[]\n",
        "# for i in list:\n",
        "#   if i not in new_list:\n",
        "#     new_list.append(i)\n",
        "# print(new_list)\n",
        "\n",
        "def remove_duplicates(lst):\n",
        "  return list(set(lst))\n",
        "\n",
        "my_list=[1,2,3,4,5,1,2,3,4,5]\n",
        "print(remove_duplicates(my_list))"
      ],
      "metadata": {
        "colab": {
          "base_uri": "https://localhost:8080/"
        },
        "id": "w5KCcK5dM6P7",
        "outputId": "3b5d6517-4787-442f-e17c-0b1070693f32"
      },
      "execution_count": null,
      "outputs": [
        {
          "output_type": "stream",
          "name": "stdout",
          "text": [
            "[1, 2, 3, 4, 5]\n"
          ]
        }
      ]
    },
    {
      "cell_type": "code",
      "source": [
        "# 33)Write a Python program to check a list is empty or not.\n",
        "List=[1]\n",
        "if len(List)==0:\n",
        "  print(\"List is empty\")\n",
        "else:\n",
        "  print(\"List is not empty\")"
      ],
      "metadata": {
        "colab": {
          "base_uri": "https://localhost:8080/"
        },
        "id": "Ljxuty2kPCp3",
        "outputId": "a3a7b241-d372-4f20-9c22-bb6c0da67476"
      },
      "execution_count": null,
      "outputs": [
        {
          "output_type": "stream",
          "name": "stdout",
          "text": [
            "List is not empty\n"
          ]
        }
      ]
    },
    {
      "cell_type": "code",
      "source": [
        "# 34) Write a Python function that takes two lists and returns true if they have at least one common member.\n",
        "def common_member(list1, list2):\n",
        "    for i in list1:\n",
        "        if i in list2:\n",
        "            return True\n",
        "    return False\n",
        "\n",
        "# Example usage\n",
        "result = common_member([1, 2, 3, 4, 5], [5, 6, 7, 8, 9])\n",
        "print(result)\n",
        "\n",
        "result = common_member([1, 2, 3, 4, 5], [6, 7, 8, 9])\n",
        "print(result)\n"
      ],
      "metadata": {
        "colab": {
          "base_uri": "https://localhost:8080/"
        },
        "id": "0BU64lPuPoDJ",
        "outputId": "4a7b2daf-1a78-4543-ea08-7d2447bae319"
      },
      "execution_count": null,
      "outputs": [
        {
          "output_type": "stream",
          "name": "stdout",
          "text": [
            "True\n",
            "False\n"
          ]
        }
      ]
    },
    {
      "cell_type": "code",
      "source": [
        "# 35) Write a Python program to generate and print a list of first and last 5 elements where the values are square of numbers between 1 and 30.\n",
        "list=[]\n",
        "for i in range(1,31):\n",
        "  list.append(i**2)\n",
        "print(list[:5])\n",
        "print(list[-5:])\n",
        "# squares = [i**2 for i in range(1, 31)]\n",
        "# first_five = squares[:5]\n",
        "# last_five = squares[-5:]\n",
        "# print(\"First 5 elements:\", first_five)\n",
        "# print(\"Last 5 elements:\", last_five)\n"
      ],
      "metadata": {
        "colab": {
          "base_uri": "https://localhost:8080/"
        },
        "id": "RnxlUBcd9Ovw",
        "outputId": "5b011bf2-2c30-4b12-f29a-d9e59f6d7e68"
      },
      "execution_count": null,
      "outputs": [
        {
          "output_type": "stream",
          "name": "stdout",
          "text": [
            "[1, 4, 9, 16, 25]\n",
            "[676, 729, 784, 841, 900]\n"
          ]
        }
      ]
    },
    {
      "cell_type": "code",
      "source": [
        "# 36) Write a Python function that takes a list and returns a new list with unique elements of the first list.\n",
        "def get_unique_elements(input_list):\n",
        "    unique_elements = list(set(input_list))\n",
        "    return unique_elements\n",
        "\n",
        "# Example usage\n",
        "example_list = [1, 2, 2, 3, 4, 4, 5, 6, 6, 7, 8, 9, 9, 10]\n",
        "unique_list = get_unique_elements(example_list)\n",
        "\n",
        "print(\"Original list:\", example_list)\n",
        "print(\"Unique elements list:\", unique_list)\n",
        "\n"
      ],
      "metadata": {
        "colab": {
          "base_uri": "https://localhost:8080/"
        },
        "id": "8dbxdEZ8_0vC",
        "outputId": "691dda5d-6b28-4bbd-a707-40a0bf5e4557"
      },
      "execution_count": null,
      "outputs": [
        {
          "output_type": "stream",
          "name": "stdout",
          "text": [
            "Original list: [1, 2, 2, 3, 4, 4, 5, 6, 6, 7, 8, 9, 9, 10]\n",
            "Unique elements list: [1, 2, 3, 4, 5, 6, 7, 8, 9, 10]\n"
          ]
        }
      ]
    },
    {
      "cell_type": "code",
      "source": [
        "# 37)Write a Python program to convert a list of characters into a string.\n",
        "List=['a','b','c','d',\"Meet\"]\n",
        "string=\" \"\n",
        "for i in List:\n",
        "  string+=i\n",
        "print(string)"
      ],
      "metadata": {
        "colab": {
          "base_uri": "https://localhost:8080/"
        },
        "id": "ec97NUloDFU7",
        "outputId": "49c358e4-4022-46a7-e6e4-9cb58d905fb0"
      },
      "execution_count": null,
      "outputs": [
        {
          "output_type": "stream",
          "name": "stdout",
          "text": [
            " abcdMeet\n"
          ]
        }
      ]
    },
    {
      "cell_type": "code",
      "source": [
        "# 38)Write a Python program to select an item randomly from a list.\n",
        "import random\n",
        "list=[1,2,3,4,5,6,7,8,9,10]\n",
        "print(random.choice(list))"
      ],
      "metadata": {
        "colab": {
          "base_uri": "https://localhost:8080/"
        },
        "id": "oip5Qt2qD0gT",
        "outputId": "ca700e5d-a872-413d-a588-2f3f771df02e"
      },
      "execution_count": null,
      "outputs": [
        {
          "output_type": "stream",
          "name": "stdout",
          "text": [
            "3\n"
          ]
        }
      ]
    },
    {
      "cell_type": "code",
      "source": [
        "# 39)Write a Python program to find the second smallest number in a list.\n",
        "list=[1,12,3,4,5,6,7,8,9,10]\n",
        "list.sort()\n",
        "print(list[1])"
      ],
      "metadata": {
        "colab": {
          "base_uri": "https://localhost:8080/"
        },
        "id": "uZj-7IkFENQf",
        "outputId": "9901d222-6cfe-4a23-f7f1-32ff52b59ca4"
      },
      "execution_count": null,
      "outputs": [
        {
          "output_type": "stream",
          "name": "stdout",
          "text": [
            "3\n"
          ]
        }
      ]
    },
    {
      "cell_type": "code",
      "source": [
        "# 40)Write a Python program to get unique values from a list\n",
        "List=[1,2,3,4,5,1,2,3,4,5]\n",
        "new_list=[]\n",
        "for i in List:\n",
        "  if i not in new_list:\n",
        "    new_list.append(i)\n",
        "print(\"My list:\",List)\n",
        "print(\"Unique list:\",new_list)\n",
        "\n",
        "# def get_unique_elements(input_list):\n",
        "#   unique_elements=list(set(input_list))\n",
        "#   return unique_elements\n",
        "\n",
        "# my_list = [1, 2, 2, 3, 4, 4, 5, 6, 6, 7, 8, 9, 9, 10]\n",
        "# unique_list = get_unique_elements(my_list)\n",
        "\n",
        "# print(my_list)\n",
        "# print(unique_list)"
      ],
      "metadata": {
        "colab": {
          "base_uri": "https://localhost:8080/"
        },
        "id": "LXN00olHE8R9",
        "outputId": "9543deb0-6a0a-4073-8463-71afb81485d0"
      },
      "execution_count": null,
      "outputs": [
        {
          "output_type": "stream",
          "name": "stdout",
          "text": [
            "My list: [1, 2, 3, 4, 5, 1, 2, 3, 4, 5]\n",
            "Unique list: [1, 2, 3, 4, 5]\n"
          ]
        }
      ]
    },
    {
      "cell_type": "code",
      "source": [
        "# 41)Write a Python program to check whether a list contains a sub list.\n",
        "list1=[1,2,3,4,5]\n",
        "list2=[2,3]\n",
        "if list2 in list1:\n",
        "  print(\"True\")\n",
        "else:\n",
        "  print(\"False\")"
      ],
      "metadata": {
        "colab": {
          "base_uri": "https://localhost:8080/"
        },
        "id": "OWwv2I66k-Y4",
        "outputId": "cf9cd5c9-c3fa-4d2d-8a33-48ff6133efce"
      },
      "execution_count": null,
      "outputs": [
        {
          "output_type": "stream",
          "name": "stdout",
          "text": [
            "False\n"
          ]
        }
      ]
    },
    {
      "cell_type": "code",
      "source": [
        "# 42)Write a Python program to split a list into different variables.\n",
        "list=[1,2,3,4,5]\n",
        "a,b,c,d,e=list\n",
        "print(\"a:\",a,\"b:\",b,\"c:\",c,\"d:\",d,\"e:\",e)"
      ],
      "metadata": {
        "colab": {
          "base_uri": "https://localhost:8080/"
        },
        "id": "e6E46WGDnIqS",
        "outputId": "a3cfac0a-3cad-4e97-ae1c-a6967670de5f"
      },
      "execution_count": null,
      "outputs": [
        {
          "output_type": "stream",
          "name": "stdout",
          "text": [
            "a: 1 b: 2 c: 3 d: 4 e: 5\n"
          ]
        }
      ]
    },
    {
      "cell_type": "markdown",
      "source": [
        "43)What is tuple? Difference between list and tuple -> A tuple is an immutable, ordered collection of elements in Python, defined by parentheses (). The main difference between a list and a tuple is that lists are mutable (can be modified) and are defined with square brackets [], while tuples are immutable (cannot be modified) and are defined with parentheses ().\n",
        "\n",
        "# List example\n",
        "my_list = [1, 2, 3]\n",
        "\n",
        "my_list[0] = 10\n",
        "\n",
        "print(my_list)  \n",
        "\n",
        "Output: [10, 2, 3]\n",
        "\n",
        "# my_tuple = (1, 2, 3)\n",
        "\n",
        "my_tuple[0] = 10  \n",
        "\n",
        "This will raise a TypeError\n",
        "\n",
        "print(my_tuple)  \n",
        "\n",
        "Output: (1, 2, 3)\n"
      ],
      "metadata": {
        "id": "5nHKzoOKoxMG"
      }
    },
    {
      "cell_type": "code",
      "source": [
        "# 44)Write a Python program to create a tuple with different data types.\n",
        "my_tuple = (1, \"hello\", 3.14, True, [1, 2, 3], {'key': 'value'}, (5, 6))\n",
        "for i in my_tuple:\n",
        "  print(\"Elelment\",i,type(i))"
      ],
      "metadata": {
        "colab": {
          "base_uri": "https://localhost:8080/"
        },
        "id": "wbRpyyn3n_R5",
        "outputId": "a108483e-d0c8-4a5f-c5a2-e7fbc47a0e1f"
      },
      "execution_count": null,
      "outputs": [
        {
          "output_type": "stream",
          "name": "stdout",
          "text": [
            "Elelment 1 <class 'int'>\n",
            "Elelment hello <class 'str'>\n",
            "Elelment 3.14 <class 'float'>\n",
            "Elelment True <class 'bool'>\n",
            "Elelment [1, 2, 3] <class 'list'>\n",
            "Elelment {'key': 'value'} <class 'dict'>\n",
            "Elelment (5, 6) <class 'tuple'>\n"
          ]
        }
      ]
    },
    {
      "cell_type": "code",
      "source": [
        "# 45)Write a Python program to unzip a list of tuples into individual lists.\n",
        "list_of_tuples = [(1, 'a'), (2, 'b'), (3, 'c'), (4, 'd')]\n",
        "\n",
        "list1, list2 = zip(*list_of_tuples)\n",
        "\n",
        "list1 = list(list1)\n",
        "list2 = list(list2)\n",
        "\n",
        "print('List1:', list1)\n",
        "print('List2:', list2)"
      ],
      "metadata": {
        "id": "010RxaRaxqjk",
        "colab": {
          "base_uri": "https://localhost:8080/"
        },
        "outputId": "b2130b00-8883-4d3e-af8c-583a89832faa"
      },
      "execution_count": null,
      "outputs": [
        {
          "output_type": "stream",
          "name": "stdout",
          "text": [
            "List1: [1, 2, 3, 4]\n",
            "List2: ['a', 'b', 'c', 'd']\n"
          ]
        }
      ]
    },
    {
      "cell_type": "code",
      "source": [
        "# 46)Write a Python program to convert a list of tuples into a dictionary.\n",
        "list_of_tuple = [(1,'a'),(2,'b'),(3,'c'),(4,'d')]\n",
        "new_dict = {}\n",
        "for key,value in list_of_tuple:\n",
        "  new_dict[key] = value\n",
        "print(\"Dictionary\",new_dict)\n",
        "\n",
        "# list_of_typle = [(1,'a'),(2,'b'),(3,'c'),(4,'d')]\n",
        "# dictionary = dict(list_of_typle)\n",
        "# print(dictionary)"
      ],
      "metadata": {
        "id": "6R0ZkF8dz01G",
        "colab": {
          "base_uri": "https://localhost:8080/"
        },
        "outputId": "33f33b41-4352-4f60-c3d1-689bcfa2f0d2"
      },
      "execution_count": 22,
      "outputs": [
        {
          "output_type": "stream",
          "name": "stdout",
          "text": [
            "Dictionary {1: 'a', 2: 'b', 3: 'c', 4: 'd'}\n"
          ]
        }
      ]
    },
    {
      "cell_type": "code",
      "source": [
        "# 47)How will you create a dictionary using tuples in python?\n",
        "# Using a list of tuples and dictionary comprehension You can create a dictionary from a list of tuples using dictionary comprehension:\n",
        "list_of_tuple = [(1,'a'),(2,'b'),(3,'c'),(4,'d')]\n",
        "new_dict = {}\n",
        "for key,value in list_of_tuple:\n",
        "  new_dict[key] = value\n",
        "print(\"Dictionary\",new_dict)\n",
        "\n",
        "# Using the dict() constructor\n",
        "list_of_typle = [(1,'a'),(2,'b'),(3,'c'),(4,'d')]\n",
        "dictionary = dict(list_of_typle)\n",
        "print(dictionary)\n",
        "\n"
      ],
      "metadata": {
        "id": "Ibcvr0n_1-q0"
      },
      "execution_count": null,
      "outputs": []
    },
    {
      "cell_type": "code",
      "source": [
        "# 48)Write a Python script to sort (ascending and descending) a dictionary by value.\n",
        "my_dict = {'apple': 10, 'orange': 5, 'banana': 8, 'grapes': 3}\n",
        "sorted_dict = dict(sorted(my_dict.items()))\n",
        "print(\"Dictionary sorted by keys:\", sorted_dict)\n"
      ],
      "metadata": {
        "colab": {
          "base_uri": "https://localhost:8080/"
        },
        "id": "3IB2oGQ5ZKac",
        "outputId": "251a3519-1ed0-49e0-84d7-4589f3e49beb"
      },
      "execution_count": 11,
      "outputs": [
        {
          "output_type": "stream",
          "name": "stdout",
          "text": [
            "Dictionary sorted by keys: {'apple': 10, 'banana': 8, 'grapes': 3, 'orange': 5}\n"
          ]
        }
      ]
    },
    {
      "cell_type": "code",
      "source": [
        "# 49)Write a Python script to concatenate following dictionaries to createa new one.\n",
        "dic1={1:10, 2:20}\n",
        "dic2={3:30, 4:40}\n",
        "dic3={5:50,6:60}\n",
        "dic4 = {}\n",
        "for i in (dic1, dic2, dic3):\n",
        "    dic4.update(i)\n",
        "print(dic4)\n"
      ],
      "metadata": {
        "colab": {
          "base_uri": "https://localhost:8080/"
        },
        "id": "oVluodRDbR72",
        "outputId": "7d1201d1-dac4-46d1-cd20-8d67fdc514f6"
      },
      "execution_count": 14,
      "outputs": [
        {
          "output_type": "stream",
          "name": "stdout",
          "text": [
            "{1: 10, 2: 20, 3: 30, 4: 40, 5: 50, 6: 60}\n"
          ]
        }
      ]
    },
    {
      "cell_type": "code",
      "source": [
        "# 50)Write a Python script to check if a given key already exists in a dictionary\n",
        "dic = {'a': 1, 'b': 2, 'c': 3}\n",
        "key = 'f'\n",
        "if key in dic:\n",
        "    print(f\"Key '{key}' exists in the dictionary.\")\n",
        "else:\n",
        "    print(\"Key not exists in dictionary\")"
      ],
      "metadata": {
        "colab": {
          "base_uri": "https://localhost:8080/"
        },
        "id": "gKA7voCtcAaX",
        "outputId": "96c74283-a6ba-4bac-a8ed-054824188d24"
      },
      "execution_count": 17,
      "outputs": [
        {
          "output_type": "stream",
          "name": "stdout",
          "text": [
            "Key not exists in dictionary\n"
          ]
        }
      ]
    },
    {
      "cell_type": "markdown",
      "source": [
        "51)How Do You Traverse Through a Dictionary Object in Python? ->\n",
        "Traversing through a dictionary in Python can be done in various ways depending on what you need to access (keys, values, or key-value pairs). Here are some common methods to traverse through a dictionary:\n",
        "\n",
        "my_dict = {'a': 1, 'b': 2, 'c': 3}\n",
        "\n",
        "for key in my_dict:\n",
        "\n",
        "    print(\"Key:\", key)\n",
        "\n",
        "for value in my_dict.values():\n",
        "\n",
        "    print(\"Value:\", value)\n",
        "\n",
        "for key, value in my_dict.items():\n",
        "\n",
        "    print(\"Key:\", key, \"Value:\", value)    \n",
        "\n",
        "Output:\n",
        "\n",
        "Key: a\n",
        "Key: b\n",
        "Key: c\n",
        "\n",
        "Value: 1\n",
        "Value: 2\n",
        "Value: 3\n",
        "\n",
        "Key: a Value: 1\n",
        "Key: b Value: 2\n",
        "Key: c Value: 3"
      ],
      "metadata": {
        "id": "mqNtQldhWB-t"
      }
    },
    {
      "cell_type": "code",
      "source": [
        "# 52)How Do You Check the Presence of a Key in A Dictionary?\n",
        "my_dict = {'a': 1, 'b': 2, 'c': 3}\n",
        "key = 'd'\n",
        "if key in my_dict:\n",
        "    print(f\"Key '{key}' exists in the dictionary.\")\n",
        "else:\n",
        "    print(\"Key not exists in dictionary\")"
      ],
      "metadata": {
        "colab": {
          "base_uri": "https://localhost:8080/"
        },
        "id": "xytsKf2nW4rB",
        "outputId": "86f008ee-57aa-491a-92d1-4486d129a40c"
      },
      "execution_count": 3,
      "outputs": [
        {
          "output_type": "stream",
          "name": "stdout",
          "text": [
            "Key not exists in dictionary\n"
          ]
        }
      ]
    },
    {
      "cell_type": "code",
      "source": [
        "# 53)Write a Python script to print a dictionary where the keys are numbers between 1 and 15.\n",
        "my_dict = {}\n",
        "for i in range(1, 16):\n",
        "    my_dict[i] = i**1\n",
        "print(my_dict)"
      ],
      "metadata": {
        "colab": {
          "base_uri": "https://localhost:8080/"
        },
        "id": "97LjCExnXelh",
        "outputId": "65fa8ba5-1104-4a31-de4f-f213f89bf7c7"
      },
      "execution_count": 9,
      "outputs": [
        {
          "output_type": "stream",
          "name": "stdout",
          "text": [
            "{1: 1, 2: 2, 3: 3, 4: 4, 5: 5, 6: 6, 7: 7, 8: 8, 9: 9, 10: 10, 11: 11, 12: 12, 13: 13, 14: 14, 15: 15}\n"
          ]
        }
      ]
    },
    {
      "cell_type": "code",
      "source": [
        "# 54)Write a Python program to check multiple keys exists in a dictionary.\n",
        "my_dict = {'a':1,'b':2,'c':3}\n",
        "keys = ['a','d']\n",
        "for key in keys:\n",
        "    if key in my_dict:\n",
        "        print(f\"Key '{key}' exists in the dictionary.\")\n",
        "    else:\n",
        "        print(f\"Key '{key}' not exists in dictionary\")"
      ],
      "metadata": {
        "colab": {
          "base_uri": "https://localhost:8080/"
        },
        "id": "uv7-puGSZXs8",
        "outputId": "f077c316-3a73-45c4-efbe-926d49a0cc29"
      },
      "execution_count": 14,
      "outputs": [
        {
          "output_type": "stream",
          "name": "stdout",
          "text": [
            "Key 'a' exists in the dictionary.\n",
            "Key 'd' not exists in dictionary\n"
          ]
        }
      ]
    },
    {
      "cell_type": "code",
      "source": [
        "# 55)Write a Python script to merge two Python dictionaries\n",
        "def merge_dictionaries(dict1, dict2):\n",
        "  merged_dict = {**dict1, **dict2}\n",
        "  return merged_dict\n",
        "\n",
        "dic1 = {'a':1,'b':2}\n",
        "dic2={'c':3,'d':4}\n",
        "\n",
        "print(\"Merged_Dictionary\",merge_dictionaries(dic1,dic2))"
      ],
      "metadata": {
        "colab": {
          "base_uri": "https://localhost:8080/"
        },
        "id": "-VTbHK-haZ_F",
        "outputId": "547a47dc-aa1e-4ad5-99f8-15efbad8cb5b"
      },
      "execution_count": 16,
      "outputs": [
        {
          "output_type": "stream",
          "name": "stdout",
          "text": [
            "Merged_Dictionary {'a': 1, 'b': 2, 'c': 3, 'd': 4}\n"
          ]
        }
      ]
    },
    {
      "cell_type": "code",
      "source": [
        "# 56)Write a Python program to map two lists into a dictionary.\n",
        "keys = ['Name','b','c','d']\n",
        "values = ['Meet',2,3,4]\n",
        "my_dict = dict(zip(keys,values))\n",
        "print(my_dict)"
      ],
      "metadata": {
        "colab": {
          "base_uri": "https://localhost:8080/"
        },
        "id": "K3jjaL5ecI5h",
        "outputId": "6da3d235-0e51-4355-fd87-ce41eb34a883"
      },
      "execution_count": 22,
      "outputs": [
        {
          "output_type": "stream",
          "name": "stdout",
          "text": [
            "{'Name': 'Meet', 'b': 2, 'c': 3, 'd': 4}\n"
          ]
        }
      ]
    },
    {
      "cell_type": "code",
      "source": [
        "# 57)Write a Python program to find the highest 3 values in a dictionary.\n",
        "my_dict = {'apple': 10, 'orange': 5, 'banana': 8, 'grapes': 3}\n",
        "sorted_dict = sorted(my_dict.values(),reverse=True)\n",
        "top_three = sorted_dict[:3]\n",
        "print(my_dict)\n",
        "print(top_three)"
      ],
      "metadata": {
        "colab": {
          "base_uri": "https://localhost:8080/"
        },
        "id": "nYLe2JL-cpsI",
        "outputId": "4e1f3809-7a6b-4b95-b795-df688afb90e8"
      },
      "execution_count": 29,
      "outputs": [
        {
          "output_type": "stream",
          "name": "stdout",
          "text": [
            "{'apple': 10, 'orange': 5, 'banana': 8, 'grapes': 3}\n",
            "[10, 8, 5]\n"
          ]
        }
      ]
    },
    {
      "cell_type": "code",
      "source": [
        "# 58)Write a Python program to combine values in python list of dictionaries.\n",
        "# Sample data: [{'item': 'item1', 'amount': 400}, {'item': 'item2', 'amount':\n",
        "# 300}, o {'item': 'item1', 'amount': 750}]\n",
        "# Sample data\n",
        "data = [{'item': 'item1', 'amount': 400},\n",
        "        {'item': 'item2', 'amount': 300},\n",
        "        {'item': 'item1', 'amount': 750}]\n",
        "\n",
        "# Initialize an empty dictionary to store combined values\n",
        "combined_dict = {}\n",
        "\n",
        "# Iterate through each dictionary in the list\n",
        "for d in data:\n",
        "    item = d['item']\n",
        "    amount = d['amount']\n",
        "\n",
        "    # If item already exists in combined_dict, add the amount to existing value\n",
        "    if item in combined_dict:\n",
        "        combined_dict[item] += amount\n",
        "    else:\n",
        "        combined_dict[item] = amount\n",
        "\n",
        "# Print the combined dictionary\n",
        "print(\"Combined values:\", combined_dict)\n"
      ],
      "metadata": {
        "colab": {
          "base_uri": "https://localhost:8080/"
        },
        "id": "tvMVm9wHgTXF",
        "outputId": "6a24fc0e-3af6-4b97-81d1-5022b45bb704"
      },
      "execution_count": 2,
      "outputs": [
        {
          "output_type": "stream",
          "name": "stdout",
          "text": [
            "Combined values: {'item1': 1150, 'item2': 300}\n"
          ]
        }
      ]
    },
    {
      "cell_type": "code",
      "source": [
        "#59)Write a Python program to create a dictionary from a string. Note: Track the count of the letters from the string.\n",
        "string = \"Hello,world\"\n",
        "my_dict = {}\n",
        "for i in string:\n",
        "  if i in my_dict:\n",
        "    my_dict[i]+=1\n",
        "  else:\n",
        "    my_dict[i]=1\n",
        "print(my_dict)"
      ],
      "metadata": {
        "colab": {
          "base_uri": "https://localhost:8080/"
        },
        "id": "70Ia2e9gmkeB",
        "outputId": "c19084a1-b3a6-48b5-f544-3caf8e5383c0"
      },
      "execution_count": 4,
      "outputs": [
        {
          "output_type": "stream",
          "name": "stdout",
          "text": [
            "{'H': 1, 'e': 1, 'l': 3, 'o': 2, ',': 1, 'w': 1, 'r': 1, 'd': 1}\n"
          ]
        }
      ]
    },
    {
      "cell_type": "code",
      "source": [
        "# 61)Write a Python function to calculate the factorial of a number (anonnegative integer)\n",
        "def factorial(n):\n",
        "    if n < 0:\n",
        "        return \"Factorial is not defined for negative numbers.\"\n",
        "    elif n == 0 or n == 1:\n",
        "        return 1\n",
        "    else:\n",
        "        result = 1\n",
        "        for i in range(2, n + 1):\n",
        "            result *= i\n",
        "        return result\n",
        "\n",
        "# Example usage\n",
        "number = 5\n",
        "print(\"The factorial of\", number, \"is\", factorial(number))\n"
      ],
      "metadata": {
        "colab": {
          "base_uri": "https://localhost:8080/"
        },
        "id": "ke1q7fhXnVRt",
        "outputId": "ec37b312-a426-426d-b67b-1fb5ec513146"
      },
      "execution_count": 5,
      "outputs": [
        {
          "output_type": "stream",
          "name": "stdout",
          "text": [
            "The factorial of 5 is 120\n"
          ]
        }
      ]
    },
    {
      "cell_type": "code",
      "source": [
        "# 62)Write a Python function to check whether a number is in a given range\n",
        "def in_range(number,range_start,range_end):\n",
        "  return range_start <= number <= range_end\n",
        "\n",
        "num = 5\n",
        "start = 1\n",
        "end = 10\n",
        "if in_range(num,start,end):\n",
        "  print(f\"{num} is in the range {start}-{end}.\")\n",
        "else:\n",
        "    print(f\"{num} is not in the range {start}-{end}.\")"
      ],
      "metadata": {
        "colab": {
          "base_uri": "https://localhost:8080/"
        },
        "id": "lbVYHJDDtPyR",
        "outputId": "c7e3d672-7845-4db0-97f6-66a01e98ce53"
      },
      "execution_count": 3,
      "outputs": [
        {
          "output_type": "stream",
          "name": "stdout",
          "text": [
            "5 is in the range 1-10.\n"
          ]
        }
      ]
    },
    {
      "cell_type": "code",
      "source": [
        "#63) Write a Python function to check whether a number is perfect or not.\n",
        "def is_perfect(number):\n",
        "  if number < 1:\n",
        "    return False\n",
        "  sum_of_div = 0\n",
        "  for i in range(1,number):\n",
        "    if number % i == 0:\n",
        "      sum_of_div += i\n",
        "  return sum_of_div == number\n",
        "\n",
        "num = 12\n",
        "if is_perfect(num):\n",
        "  print(num,'is perfect number')\n",
        "else:\n",
        "  print(num,'is not perfect number')\n",
        "\n",
        ""
      ],
      "metadata": {
        "colab": {
          "base_uri": "https://localhost:8080/"
        },
        "id": "tDpYnnqRuSUG",
        "outputId": "5aaa04db-3857-4317-ff65-587529483eda"
      },
      "execution_count": 9,
      "outputs": [
        {
          "output_type": "stream",
          "name": "stdout",
          "text": [
            "12 is not perfect number\n"
          ]
        }
      ]
    },
    {
      "cell_type": "code",
      "source": [
        "#64) Write a Python function that checks whether a passed string is palindrome or not\n",
        "def is_palindrome(s):\n",
        "  clean_string = s.replace(\" \",\"\").lower()\n",
        "  return clean_string == clean_string[::-1]\n",
        "\n",
        "string = \"mom\"\n",
        "if is_palindrome(string):\n",
        "  print(string,'is palindrome')\n",
        "else:\n",
        "  print(string,'is not palindrome')"
      ],
      "metadata": {
        "colab": {
          "base_uri": "https://localhost:8080/"
        },
        "id": "7KIOAArAwJqy",
        "outputId": "7471c323-3827-4fb0-beb2-e429e7c51969"
      },
      "execution_count": 11,
      "outputs": [
        {
          "output_type": "stream",
          "name": "stdout",
          "text": [
            "mom is palindrome\n"
          ]
        }
      ]
    },
    {
      "cell_type": "markdown",
      "source": [
        "65)How Many Basic Types of Functions Are Available in Python? ->\n",
        "\n",
        "In Python, there are two basic types of functions:\n",
        "\n",
        "Built-in Functions:\n",
        "\n",
        "These are functions that are pre-defined in Python and are available out-of-the-box. You don't need to import any modules to use them. Examples include print(), len(), type(), abs(), and sum().\n",
        "User-Defined Functions:\n",
        "\n",
        "These are functions that you define yourself using the def keyword. They can accept arguments, perform operations, and return values. User-defined functions are written by the programmer to perform specific tasks. Here's an example:"
      ],
      "metadata": {
        "id": "cAm4YCAAz9FX"
      }
    },
    {
      "cell_type": "code",
      "source": [
        "# 66)How can you pick a random item from a list or tuple?\n",
        "import random\n",
        "\n",
        "my_list = [1, 2, 3, 4, 5]\n",
        "random_item_from_list = random.choice(my_list)\n",
        "print(f\"Random item from list: {random_item_from_list}\")\n",
        "\n",
        "my_tuple = ('apple', 'orange', 'banana', 'grape')\n",
        "random_item_from_tuple = random.choice(my_tuple)\n",
        "print(f\"Random item from tuple: {random_item_from_tuple}\")\n"
      ],
      "metadata": {
        "colab": {
          "base_uri": "https://localhost:8080/"
        },
        "id": "8WgNzCRAzY1-",
        "outputId": "38c5b2a9-e6a4-41a3-da49-b54e70e16183"
      },
      "execution_count": 14,
      "outputs": [
        {
          "output_type": "stream",
          "name": "stdout",
          "text": [
            "Random item from list: 4\n",
            "Random item from tuple: orange\n"
          ]
        }
      ]
    },
    {
      "cell_type": "code",
      "source": [
        "# 67)How can you pick a random item from a range?\n",
        "import random\n",
        "random_int = random.randint(1, 10)\n",
        "print('random numnber',random_int)\n"
      ],
      "metadata": {
        "colab": {
          "base_uri": "https://localhost:8080/"
        },
        "id": "gMLADnFl01PJ",
        "outputId": "ae2e5628-cd3e-4546-8fa1-bc1fa81c7c13"
      },
      "execution_count": 18,
      "outputs": [
        {
          "output_type": "stream",
          "name": "stdout",
          "text": [
            "random numnber 3\n"
          ]
        }
      ]
    },
    {
      "cell_type": "code",
      "source": [
        "# 68)How can you get a random number in python?\n",
        "import random\n",
        "random_int = random.randint(1, 10)\n",
        "print('random numnber',random_int)"
      ],
      "metadata": {
        "colab": {
          "base_uri": "https://localhost:8080/"
        },
        "id": "POeHvv-D1A0d",
        "outputId": "d7ad670b-4ee4-483b-bb80-c6b38aa29a59"
      },
      "execution_count": 19,
      "outputs": [
        {
          "output_type": "stream",
          "name": "stdout",
          "text": [
            "random numnber 7\n"
          ]
        }
      ]
    },
    {
      "cell_type": "code",
      "source": [
        "# 69)How will you set the starting value in generating random numbers?\n",
        "import random\n",
        "\n",
        "print(random.random())\n",
        "print(random.randint(1, 10))\n",
        "print(random.uniform(1.5, 10.5))\n"
      ],
      "metadata": {
        "colab": {
          "base_uri": "https://localhost:8080/"
        },
        "id": "N6U0rXE41i9m",
        "outputId": "29220652-e369-4a6b-dbff-f96c0ab2d4df"
      },
      "execution_count": 23,
      "outputs": [
        {
          "output_type": "stream",
          "name": "stdout",
          "text": [
            "0.5623187149479814\n",
            "6\n",
            "9.168779570364318\n"
          ]
        }
      ]
    },
    {
      "cell_type": "code",
      "source": [
        "# 70) How will you randomize the items of a list in place?\n",
        "import random\n",
        "my_list = [1, 2, 3, 4, 5]\n",
        "\n",
        "print(\"Original list:\", my_list)\n",
        "\n",
        "random.shuffle(my_list)\n",
        "\n",
        "print(\"Shuffled list:\", my_list)\n"
      ],
      "metadata": {
        "colab": {
          "base_uri": "https://localhost:8080/"
        },
        "id": "XXnz-IL12CXO",
        "outputId": "37671e07-5fa6-49dd-a456-ccc7a485c266"
      },
      "execution_count": 26,
      "outputs": [
        {
          "output_type": "stream",
          "name": "stdout",
          "text": [
            "Original list: [1, 2, 3, 4, 5]\n",
            "Shuffled list: [2, 3, 5, 4, 1]\n"
          ]
        }
      ]
    },
    {
      "cell_type": "code",
      "source": [],
      "metadata": {
        "id": "O4sEN4su2dvs"
      },
      "execution_count": null,
      "outputs": []
    },
    {
      "cell_type": "code",
      "source": [],
      "metadata": {
        "id": "Jj4yQx-GJTUt"
      },
      "execution_count": null,
      "outputs": []
    }
  ]
}